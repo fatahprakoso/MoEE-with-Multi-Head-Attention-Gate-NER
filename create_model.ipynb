{
 "cells": [
  {
   "cell_type": "code",
   "execution_count": 14,
   "id": "3762d350-aee9-4009-a89b-595e74305c10",
   "metadata": {},
   "outputs": [],
   "source": [
    "import torch\n",
    "import json\n",
    "import fasttext\n",
    "import torch.nn.functional as F\n",
    "\n",
    "from torch import nn\n",
    "from torch.nn.utils.rnn import pad_sequence, pad_packed_sequence, pack_padded_sequence\n",
    "from NERModel import NERMOEE"
   ]
  },
  {
   "cell_type": "code",
   "execution_count": 7,
   "id": "07668046-76cc-4e81-8c05-74af7896b95c",
   "metadata": {},
   "outputs": [],
   "source": [
    "device = 'cuda' if torch.cuda.is_available() else 'cpu'"
   ]
  },
  {
   "cell_type": "code",
   "execution_count": 11,
   "id": "e98088f4-5ca9-46c9-b8ca-1696f4a4bdc5",
   "metadata": {},
   "outputs": [],
   "source": [
    "def modelConfig():\n",
    "    try:\n",
    "        with open('config.json', 'r') as file:\n",
    "            config_dict = json.load(file)\n",
    "\n",
    "        if 'dropout_rate' not in config_dict or config_dict['dropout_rate'] is None:\n",
    "            print('input dropout_rate:')\n",
    "            dropout_rate = input()\n",
    "            config_dict['dropout_rate']=dropout_rate\n",
    "            \n",
    "            with open('config.json', 'w') as file:\n",
    "                json.dump(config_dict, file)\n",
    "            \n",
    "        if 'embedding_size' not in config_dict or config_dict['embedding_size'] is None:\n",
    "            print('input embedding_size:')\n",
    "            embedding_size = input()\n",
    "            config_dict['embedding_size']=embedding_size\n",
    "            \n",
    "            with open('config.json', 'w') as file:\n",
    "                json.dump(config_dict, file)\n",
    "            \n",
    "        if 'hidden_state' not in config_dict or config_dict['hidden_state'] is None:\n",
    "            print('input hidden_state:')\n",
    "            hidden_state = input()\n",
    "            config_dict['hidden_state']=hidden_state\n",
    "            \n",
    "            with open('config.json', 'w') as file:\n",
    "                json.dump(config_dict, file)\n",
    "            \n",
    "        if 'tag' not in config_dict or config_dict['tag'] is None:\n",
    "            print('input tag:')\n",
    "            tag = input()\n",
    "            config_dict['tag']=tag\n",
    "            \n",
    "            with open('config.json', 'w') as file:\n",
    "                json.dump(config_dict, file)\n",
    "                \n",
    "        with open('config.json', 'r') as file:\n",
    "            config_dict = json.load(file)\n",
    "    except:\n",
    "        config_dict = {}\n",
    "        \n",
    "        print('input dropout_rate:')\n",
    "        dropout_rate = input()\n",
    "        config_dict['dropout_rate']=dropout_rate\n",
    "        \n",
    "        print('input embedding_size:')\n",
    "        embedding_size = input()\n",
    "        config_dict['embedding_size']=embedding_size\n",
    "            \n",
    "        print('input hidden_state:')\n",
    "        hidden_state = input()\n",
    "        config_dict['hidden_state']=hidden_state\n",
    "            \n",
    "        print('input tag:')\n",
    "        tag = input()\n",
    "        config_dict['tag']=tag\n",
    "        \n",
    "        with open('config.json', 'w') as file:\n",
    "            json.dump(config_dict, file,)\n",
    "    \n",
    "    return config_dict"
   ]
  },
  {
   "cell_type": "code",
   "execution_count": 12,
   "id": "05c4d406-c794-4cb1-a9ba-dfbdd1bf585e",
   "metadata": {},
   "outputs": [],
   "source": [
    "def getModel():\n",
    "    config = modelConfig()\n",
    "    if 'model' in config and config['model'] is not None:\n",
    "        print('return model')\n",
    "        return\n",
    "        \n",
    "    print('create model')"
   ]
  },
  {
   "cell_type": "code",
   "execution_count": 13,
   "id": "866d77ae-c2b4-41be-bbb2-93565182bf4a",
   "metadata": {},
   "outputs": [
    {
     "name": "stdout",
     "output_type": "stream",
     "text": [
      "create model\n"
     ]
    }
   ],
   "source": [
    "getModel()"
   ]
  }
 ],
 "metadata": {
  "kernelspec": {
   "display_name": "kernel1",
   "language": "python",
   "name": "kernel1"
  },
  "language_info": {
   "codemirror_mode": {
    "name": "ipython",
    "version": 3
   },
   "file_extension": ".py",
   "mimetype": "text/x-python",
   "name": "python",
   "nbconvert_exporter": "python",
   "pygments_lexer": "ipython3",
   "version": "3.11.5"
  }
 },
 "nbformat": 4,
 "nbformat_minor": 5
}
